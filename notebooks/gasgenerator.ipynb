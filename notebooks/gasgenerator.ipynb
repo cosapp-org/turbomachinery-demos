{
 "cells": [
  {
   "cell_type": "code",
   "execution_count": 1,
   "id": "b9cbc0bf",
   "metadata": {},
   "outputs": [],
   "source": [
    "import sys\n",
    "sys.path.insert(0, \"..\")"
   ]
  },
  {
   "cell_type": "markdown",
   "id": "5c5fd93d",
   "metadata": {},
   "source": [
    "# Gas generator"
   ]
  },
  {
   "cell_type": "code",
   "execution_count": 2,
   "id": "5fceb4f4",
   "metadata": {},
   "outputs": [],
   "source": [
    "from systems.gasgeneratoraero import GasGeneratorAero\n",
    "from cosapp.drivers import NonLinearSolver"
   ]
  },
  {
   "cell_type": "code",
   "execution_count": 5,
   "id": "f223f0cb",
   "metadata": {},
   "outputs": [
    {
     "name": "stdout",
     "output_type": "stream",
     "text": [
      "FluidPort: {'fluid': 'air', 'W': 15.30869471547295, 'pt': 500000.0000000447, 'Tt': 618.4475131872232}\n"
     ]
    }
   ],
   "source": [
    "gg = GasGeneratorAero('gg')\n",
    "solver = gg.add_driver(NonLinearSolver('solver'))\n",
    "gg.turbineaero.pr = 7.\n",
    "gg.fuel_in.W = .1\n",
    "gg.fl_in.fluid = \"air\"\n",
    "\n",
    "gg.run_drivers()\n",
    "\n",
    "gg._locked=False\n",
    "gg.add_unknown('fl_in.W')\n",
    "gg.add_target('fl_out.pt')\n",
    "gg._locked=True\n",
    "\n",
    "gg.fl_out.pt = 5e5\n",
    "gg.run_drivers()\n",
    "print(gg.fl_out)"
   ]
  },
  {
   "cell_type": "code",
   "execution_count": 6,
   "id": "f11b36e0",
   "metadata": {},
   "outputs": [
    {
     "name": "stdout",
     "output_type": "stream",
     "text": [
      "FluidPort: {'fluid': 'air', 'W': 27.523316027007485, 'pt': 499999.9999999512, 'Tt': 472.6799572411943}\n"
     ]
    }
   ],
   "source": [
    "solver.runner.design.extend(gg.design_methods['aero'])\n",
    "\n",
    "gg.run_drivers()\n",
    "print(gg.fl_out)"
   ]
  },
  {
   "cell_type": "code",
   "execution_count": null,
   "id": "31d0179b",
   "metadata": {},
   "outputs": [],
   "source": [
    "from utils.canterafluid import CanteraFluid\n",
    "gg.turbineaero.gasproperty = CanteraFluid\n",
    "gg.compressoraero.gasproperty = CanteraFluid\n",
    "gg.combustionchamberaero.gasproperty = CanteraFluid\n",
    "\n",
    "gg.run_drivers()\n",
    "print(gg.fl_out)"
   ]
  }
 ],
 "metadata": {
  "kernelspec": {
   "display_name": "Python 3",
   "language": "python",
   "name": "python3"
  },
  "language_info": {
   "codemirror_mode": {
    "name": "ipython",
    "version": 3
   },
   "file_extension": ".py",
   "mimetype": "text/x-python",
   "name": "python",
   "nbconvert_exporter": "python",
   "pygments_lexer": "ipython3",
   "version": "3.9.5"
  }
 },
 "nbformat": 4,
 "nbformat_minor": 5
}
