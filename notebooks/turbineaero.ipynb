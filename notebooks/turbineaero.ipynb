{
 "cells": [
  {
   "cell_type": "code",
   "execution_count": 1,
   "id": "b9cbc0bf",
   "metadata": {},
   "outputs": [],
   "source": [
    "import sys\n",
    "sys.path.insert(0, \"..\")"
   ]
  },
  {
   "cell_type": "markdown",
   "id": "5c5fd93d",
   "metadata": {},
   "source": [
    "# Simplified Turbine"
   ]
  },
  {
   "cell_type": "code",
   "execution_count": 2,
   "id": "5fceb4f4",
   "metadata": {},
   "outputs": [],
   "source": [
    "from systems.turbineaero import TurbineAero\n",
    "from utils.canterafluid import CanteraFluid\n",
    "from cosapp.drivers import NonLinearSolver"
   ]
  },
  {
   "cell_type": "code",
   "execution_count": 5,
   "id": "621bcd06",
   "metadata": {},
   "outputs": [
    {
     "name": "stdout",
     "output_type": "stream",
     "text": [
      "FluidPort: {'fluid': 'air', 'W': 1.0, 'pt': 200000.0, 'Tt': 442.820862965766}\n"
     ]
    }
   ],
   "source": [
    "tur = TurbineAero('tur')\n",
    "solver = tur.add_driver(NonLinearSolver('solver'))\n",
    "tur.fl_in.fluid = \"air\"\n",
    "tur.fl_in.pt = 10e5\n",
    "tur.fl_in.Tt = 750.\n",
    "tur.shaft_out.power = 0.5e5 \n",
    "\n",
    "tur.run_drivers()\n",
    "\n",
    "print(tur.fl_out)"
   ]
  },
  {
   "cell_type": "code",
   "execution_count": 6,
   "id": "7b4eb704",
   "metadata": {},
   "outputs": [
    {
     "name": "stdout",
     "output_type": "stream",
     "text": [
      "FluidPort: {'fluid': 'air', 'W': 1.0, 'pt': 300000.000000258, 'Tt': 507.445363821158}\n"
     ]
    }
   ],
   "source": [
    "solver.runner.design.extend(tur.design_methods['aero'])\n",
    "solver.runner.offdesign.add_equation('fl_out.pt == 3e5')\n",
    "\n",
    "tur.run_drivers()\n",
    "print(tur.fl_out)"
   ]
  },
  {
   "cell_type": "code",
   "execution_count": 7,
   "id": "af4e6180",
   "metadata": {},
   "outputs": [
    {
     "name": "stdout",
     "output_type": "stream",
     "text": [
      "FluidPort: {'fluid': 'air', 'W': 1.0, 'pt': 300000.000000258, 'Tt': 522.8468908836662}\n"
     ]
    }
   ],
   "source": [
    "tur.gasproperty = CanteraFluid\n",
    "tur.run_drivers()\n",
    "\n",
    "print(tur.fl_out)"
   ]
  },
  {
   "cell_type": "code",
   "execution_count": null,
   "id": "c391994f",
   "metadata": {},
   "outputs": [],
   "source": []
  }
 ],
 "metadata": {
  "kernelspec": {
   "display_name": "Python 3",
   "language": "python",
   "name": "python3"
  },
  "language_info": {
   "codemirror_mode": {
    "name": "ipython",
    "version": 3
   },
   "file_extension": ".py",
   "mimetype": "text/x-python",
   "name": "python",
   "nbconvert_exporter": "python",
   "pygments_lexer": "ipython3",
   "version": "3.9.5"
  }
 },
 "nbformat": 4,
 "nbformat_minor": 5
}
