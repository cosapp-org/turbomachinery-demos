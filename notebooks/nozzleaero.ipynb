{
 "cells": [
  {
   "cell_type": "code",
   "execution_count": 1,
   "id": "b9cbc0bf",
   "metadata": {},
   "outputs": [],
   "source": [
    "import sys\n",
    "sys.path.insert(0, \"..\")"
   ]
  },
  {
   "cell_type": "markdown",
   "id": "5c5fd93d",
   "metadata": {},
   "source": [
    "# Nozzle"
   ]
  },
  {
   "cell_type": "code",
   "execution_count": 5,
   "id": "5fceb4f4",
   "metadata": {},
   "outputs": [],
   "source": [
    "from systems.nozzleaero import NozzleAero\n",
    "from cosapp.drivers import NonLinearSolver"
   ]
  },
  {
   "cell_type": "code",
   "execution_count": 10,
   "id": "bb27458e",
   "metadata": {},
   "outputs": [
    {
     "data": {
      "text/plain": [
       "{'outwards': ExtensiblePort: {'W': 40.840988040065795, 'thrust': 675.0}}"
      ]
     },
     "execution_count": 10,
     "metadata": {},
     "output_type": "execute_result"
    }
   ],
   "source": [
    "no = NozzleAero('no')\n",
    "solver = no.add_driver(NonLinearSolver('solver'))\n",
    "no.fl_in.pt = 102000\n",
    "no.run_drivers()\n",
    "no.outputs"
   ]
  },
  {
   "cell_type": "code",
   "execution_count": null,
   "id": "a363a8de",
   "metadata": {},
   "outputs": [],
   "source": []
  }
 ],
 "metadata": {
  "kernelspec": {
   "display_name": "Python 3",
   "language": "python",
   "name": "python3"
  },
  "language_info": {
   "codemirror_mode": {
    "name": "ipython",
    "version": 3
   },
   "file_extension": ".py",
   "mimetype": "text/x-python",
   "name": "python",
   "nbconvert_exporter": "python",
   "pygments_lexer": "ipython3",
   "version": "3.9.5"
  }
 },
 "nbformat": 4,
 "nbformat_minor": 5
}
