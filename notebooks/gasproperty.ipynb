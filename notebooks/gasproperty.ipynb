{
 "cells": [
  {
   "cell_type": "code",
   "execution_count": 1,
   "id": "b9cbc0bf",
   "metadata": {},
   "outputs": [],
   "source": [
    "import sys\n",
    "sys.path.insert(0, \"..\")"
   ]
  },
  {
   "cell_type": "code",
   "execution_count": 2,
   "id": "89fe8c33",
   "metadata": {},
   "outputs": [
    {
     "name": "stdout",
     "output_type": "stream",
     "text": [
      "1003.4137931034484\n",
      "1.4\n",
      "101325\n",
      "1.1781031994226607\n",
      "202650\n",
      "50.35\n"
     ]
    }
   ],
   "source": [
    "from utils.idealgas import IdealGas\n",
    "gas = IdealGas('air', p=101325, T=300.)\n",
    "print(gas.cp)\n",
    "print(gas.gamma)\n",
    "print(gas.p)\n",
    "print(gas.density)\n",
    "gas.isentropic_from_pr(2)\n",
    "print(gas.p)\n",
    "print(gas.HHV('C3H8'))"
   ]
  },
  {
   "cell_type": "code",
   "execution_count": 5,
   "id": "299d6b4e",
   "metadata": {},
   "outputs": [
    {
     "name": "stdout",
     "output_type": "stream",
     "text": [
      "998.1791642259587\n",
      "1.4010724887578245\n",
      "101325.00000000001\n",
      "1.182019360338113\n",
      "202650.00000000006\n",
      "50.30890911382753\n"
     ]
    }
   ],
   "source": [
    "from utils.canterafluid import CanteraFluid\n",
    "gas = CanteraFluid('air', p=101325, T=300.)\n",
    "print(gas.cp)\n",
    "print(gas.gamma)\n",
    "print(gas.p)\n",
    "print(gas.density)\n",
    "gas.isentropic_from_pr(2)\n",
    "print(gas.p)\n",
    "print(gas.HHV('C3H8'))"
   ]
  },
  {
   "cell_type": "code",
   "execution_count": null,
   "id": "e9e13cb3",
   "metadata": {},
   "outputs": [],
   "source": []
  },
  {
   "cell_type": "code",
   "execution_count": null,
   "id": "e1fb2fd3",
   "metadata": {},
   "outputs": [],
   "source": []
  },
  {
   "cell_type": "code",
   "execution_count": null,
   "id": "383fd57e",
   "metadata": {},
   "outputs": [],
   "source": [
    "gas.HHV('C3H8')"
   ]
  },
  {
   "cell_type": "code",
   "execution_count": null,
   "id": "d8093a3b",
   "metadata": {},
   "outputs": [],
   "source": []
  }
 ],
 "metadata": {
  "kernelspec": {
   "display_name": "Python 3",
   "language": "python",
   "name": "python3"
  },
  "language_info": {
   "codemirror_mode": {
    "name": "ipython",
    "version": 3
   },
   "file_extension": ".py",
   "mimetype": "text/x-python",
   "name": "python",
   "nbconvert_exporter": "python",
   "pygments_lexer": "ipython3",
   "version": "3.9.5"
  }
 },
 "nbformat": 4,
 "nbformat_minor": 5
}
