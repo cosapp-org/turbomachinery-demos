{
 "cells": [
  {
   "cell_type": "code",
   "execution_count": 1,
   "id": "b9cbc0bf",
   "metadata": {},
   "outputs": [],
   "source": [
    "import sys\n",
    "sys.path.insert(0, \"..\")"
   ]
  },
  {
   "cell_type": "code",
   "execution_count": 2,
   "id": "7590bf06-efb9-4ae6-8de8-aff1dc6a7a67",
   "metadata": {},
   "outputs": [],
   "source": [
    "from systems.tubeaero import TubeAero"
   ]
  },
  {
   "cell_type": "code",
   "execution_count": 3,
   "id": "33c22dc6-81c0-4b09-a798-3aed26182279",
   "metadata": {},
   "outputs": [],
   "source": [
    "s = TubeAero('s')"
   ]
  },
  {
   "cell_type": "code",
   "execution_count": 5,
   "id": "9d651148",
   "metadata": {},
   "outputs": [
    {
     "data": {
      "text/markdown": [
       "`s.fl_out`: FluidPort\n",
       "\n",
       "<div class='cosapp-port-table' style='margin-left: 25px; margin-top: -12px'><style type='text/css'>.cosapp-port-table >table >thead{display: none}.cosapp-port-table tbody tr{background: white!important}.cosapp-port-table tbody tr:hover{background: #e1f5fe!important}</style>\n",
       "\n",
       "<!-- -->|<!-- -->\n",
       "---|---\n",
       "  **W**: 10 |\n",
       "  **pt**: 91325 |\n",
       "  **Tt**: 288.15 |\n",
       "</div>\n"
      ],
      "text/plain": [
       "FluidPort: {'W': 10.0, 'pt': 91325.0, 'Tt': 288.15}"
      ]
     },
     "execution_count": 5,
     "metadata": {},
     "output_type": "execute_result"
    }
   ],
   "source": [
    "s.fl_in.W = 10.\n",
    "s.run_once()\n",
    "s.fl_out"
   ]
  },
  {
   "cell_type": "code",
   "execution_count": null,
   "id": "1c73fd2d",
   "metadata": {},
   "outputs": [],
   "source": []
  }
 ],
 "metadata": {
  "kernelspec": {
   "display_name": "Python 3",
   "language": "python",
   "name": "python3"
  },
  "language_info": {
   "codemirror_mode": {
    "name": "ipython",
    "version": 3
   },
   "file_extension": ".py",
   "mimetype": "text/x-python",
   "name": "python",
   "nbconvert_exporter": "python",
   "pygments_lexer": "ipython3",
   "version": "3.9.5"
  }
 },
 "nbformat": 4,
 "nbformat_minor": 5
}
