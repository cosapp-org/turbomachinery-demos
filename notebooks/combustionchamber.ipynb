{
 "cells": [
  {
   "cell_type": "code",
   "execution_count": 1,
   "id": "b9cbc0bf",
   "metadata": {},
   "outputs": [],
   "source": [
    "import sys\n",
    "sys.path.insert(0, \"..\")"
   ]
  },
  {
   "cell_type": "markdown",
   "id": "5c5fd93d",
   "metadata": {},
   "source": [
    "# Simplified Combustion Chamber"
   ]
  },
  {
   "cell_type": "code",
   "execution_count": 7,
   "id": "5fceb4f4",
   "metadata": {},
   "outputs": [],
   "source": [
    "from systems.combustionchamberaero import CombustionChamberAero\n",
    "from utils.canterafluid import CanteraFluid\n",
    "from cosapp.drivers import NonLinearSolver"
   ]
  },
  {
   "cell_type": "code",
   "execution_count": 15,
   "id": "51776827",
   "metadata": {},
   "outputs": [
    {
     "name": "stdout",
     "output_type": "stream",
     "text": [
      "FluidPort: {'fluid': 'air', 'W': 1.01, 'pt': 101325.0, 'Tt': 784.9191329598955}\n"
     ]
    }
   ],
   "source": [
    "cc = CombustionChamberAero('cc')\n",
    "solver = cc.add_driver(NonLinearSolver('solver'))\n",
    "\n",
    "cc.run_drivers()\n",
    "\n",
    "print(cc.fl_out)"
   ]
  },
  {
   "cell_type": "code",
   "execution_count": 16,
   "id": "4d767318",
   "metadata": {},
   "outputs": [
    {
     "name": "stdout",
     "output_type": "stream",
     "text": [
      "FluidPort: {'fluid': 'air', 'W': 1.0223816241032577, 'pt': 101325.0, 'Tt': 1400.000000000965}\n"
     ]
    }
   ],
   "source": [
    "solver.runner.design.extend(cc.design_methods['aero'])\n",
    "solver.runner.offdesign.add_unknown('fuel_in.W')\n",
    "\n",
    "cc.run_drivers()\n",
    "print(cc.fl_out)"
   ]
  },
  {
   "cell_type": "code",
   "execution_count": 17,
   "id": "d0608bf4",
   "metadata": {},
   "outputs": [
    {
     "name": "stdout",
     "output_type": "stream",
     "text": [
      "FluidPort: {'fluid': 'air', 'W': 1.0222376683053607, 'pt': 101325.0, 'Tt': 1400.0}\n"
     ]
    }
   ],
   "source": [
    "cc.gasproperty = CanteraFluid\n",
    "cc.run_drivers()\n",
    "\n",
    "print(cc.fl_out)"
   ]
  },
  {
   "cell_type": "code",
   "execution_count": null,
   "id": "e0afda6c",
   "metadata": {},
   "outputs": [],
   "source": []
  }
 ],
 "metadata": {
  "kernelspec": {
   "display_name": "Python 3",
   "language": "python",
   "name": "python3"
  },
  "language_info": {
   "codemirror_mode": {
    "name": "ipython",
    "version": 3
   },
   "file_extension": ".py",
   "mimetype": "text/x-python",
   "name": "python",
   "nbconvert_exporter": "python",
   "pygments_lexer": "ipython3",
   "version": "3.9.5"
  }
 },
 "nbformat": 4,
 "nbformat_minor": 5
}
