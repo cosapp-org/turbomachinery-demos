{
 "cells": [
  {
   "cell_type": "code",
   "execution_count": 1,
   "id": "b9cbc0bf",
   "metadata": {},
   "outputs": [],
   "source": [
    "import sys\n",
    "sys.path.insert(0, \"..\")"
   ]
  },
  {
   "cell_type": "markdown",
   "id": "5c5fd93d",
   "metadata": {},
   "source": [
    "# Simplified Compressor"
   ]
  },
  {
   "cell_type": "code",
   "execution_count": 2,
   "id": "5fceb4f4",
   "metadata": {},
   "outputs": [],
   "source": [
    "from systems.compressoraero import CompressorAero\n",
    "from utils.canterafluid import CanteraFluid\n",
    "from cosapp.drivers import NonLinearSolver"
   ]
  },
  {
   "cell_type": "code",
   "execution_count": 3,
   "id": "c8fd9920",
   "metadata": {},
   "outputs": [
    {
     "name": "stdout",
     "output_type": "stream",
     "text": [
      "FluidPort: {'fluid': 'air', 'W': 33.70779116706371, 'pt': 1000000.0, 'Tt': 583.8080027126659}\n"
     ]
    }
   ],
   "source": [
    "cmp = CompressorAero('cmp')\n",
    "cmp.add_driver(NonLinearSolver('solver'))\n",
    "cmp.shaft_in.power = 10e6\n",
    "cmp.fl_out.pt = 10e5\n",
    "\n",
    "cmp._locked=False\n",
    "cmp.add_target('fl_out.pt')\n",
    "cmp._locked=True\n",
    "\n",
    "cmp.run_drivers()\n",
    "\n",
    "print(cmp.fl_out)"
   ]
  },
  {
   "cell_type": "code",
   "execution_count": 4,
   "id": "b2ec4ac7",
   "metadata": {},
   "outputs": [
    {
     "name": "stdout",
     "output_type": "stream",
     "text": [
      "FluidPort: {'fluid': 'air', 'W': 33.78115679139154, 'pt': 1000000.0000000066, 'Tt': 585.0810117826582}\n"
     ]
    }
   ],
   "source": [
    "cmp.gasproperty = CanteraFluid\n",
    "cmp.run_drivers()\n",
    "\n",
    "print(cmp.fl_out)"
   ]
  },
  {
   "cell_type": "code",
   "execution_count": null,
   "id": "b6dd6236",
   "metadata": {},
   "outputs": [],
   "source": []
  }
 ],
 "metadata": {
  "kernelspec": {
   "display_name": "Python 3",
   "language": "python",
   "name": "python3"
  },
  "language_info": {
   "codemirror_mode": {
    "name": "ipython",
    "version": 3
   },
   "file_extension": ".py",
   "mimetype": "text/x-python",
   "name": "python",
   "nbconvert_exporter": "python",
   "pygments_lexer": "ipython3",
   "version": "3.9.5"
  }
 },
 "nbformat": 4,
 "nbformat_minor": 5
}
