{
 "cells": [
  {
   "cell_type": "code",
   "execution_count": 1,
   "id": "b9cbc0bf",
   "metadata": {},
   "outputs": [],
   "source": [
    "import sys\n",
    "sys.path.insert(0, \"..\")"
   ]
  },
  {
   "cell_type": "markdown",
   "id": "5c5fd93d",
   "metadata": {},
   "source": [
    "# IPPS"
   ]
  },
  {
   "cell_type": "code",
   "execution_count": 2,
   "id": "5fceb4f4",
   "metadata": {},
   "outputs": [],
   "source": [
    "from systems.ippsaero import IPPSAero\n",
    "from cosapp.drivers import NonLinearSolver\n",
    "from systems.turbomachineryaero import TurbomachineryAero\n",
    "from systems.turbomachinerycfmaero import TurbomachineryCFMAero\n"
   ]
  },
  {
   "cell_type": "code",
   "execution_count": 3,
   "id": "84ae987f",
   "metadata": {},
   "outputs": [
    {
     "name": "stdout",
     "output_type": "stream",
     "text": [
      "50198.40639226281\n"
     ]
    }
   ],
   "source": [
    "ipps = IPPSAero('tm', TmAero=TurbomachineryCFMAero)\n",
    "solver = ipps.add_driver(NonLinearSolver('solver'))\n",
    "ipps.fuel_in.W = .5\n",
    "ipps.ps = 101325.\n",
    "ipps.Ts = 288.15\n",
    "ipps.Mach = 0.7\n",
    "\n",
    "ipps.run_drivers()\n",
    "print(ipps.thrust)\n"
   ]
  },
  {
   "cell_type": "code",
   "execution_count": 4,
   "id": "6e2bff58",
   "metadata": {},
   "outputs": [
    {
     "name": "stdout",
     "output_type": "stream",
     "text": [
      "4.000000000000001\n",
      "50.00000000002713\n",
      "26000.000000140593\n",
      "0.0730710343083416\n"
     ]
    }
   ],
   "source": [
    "solver.runner.design.extend(ipps.design_methods['aero'])\n",
    "\n",
    "ipps.run_drivers()\n",
    "\n",
    "print(ipps.bpr)\n",
    "print(ipps.opr)\n",
    "print(ipps.thrust)\n",
    "print(ipps.tsfc)"
   ]
  },
  {
   "cell_type": "code",
   "execution_count": null,
   "id": "08a868a8",
   "metadata": {},
   "outputs": [],
   "source": []
  }
 ],
 "metadata": {
  "kernelspec": {
   "display_name": "Python 3",
   "language": "python",
   "name": "python3"
  },
  "language_info": {
   "codemirror_mode": {
    "name": "ipython",
    "version": 3
   },
   "file_extension": ".py",
   "mimetype": "text/x-python",
   "name": "python",
   "nbconvert_exporter": "python",
   "pygments_lexer": "ipython3",
   "version": "3.9.5"
  }
 },
 "nbformat": 4,
 "nbformat_minor": 5
}
