{
 "cells": [
  {
   "cell_type": "code",
   "execution_count": 1,
   "id": "b9cbc0bf",
   "metadata": {},
   "outputs": [],
   "source": [
    "import sys\n",
    "sys.path.insert(0, \"..\")"
   ]
  },
  {
   "cell_type": "markdown",
   "id": "5c5fd93d",
   "metadata": {},
   "source": [
    "# Turbomachinery"
   ]
  },
  {
   "cell_type": "code",
   "execution_count": 2,
   "id": "5fceb4f4",
   "metadata": {},
   "outputs": [],
   "source": [
    "from systems.turbomachineryaero import TurbomachineryAero\n",
    "from cosapp.drivers import NonLinearSolver"
   ]
  },
  {
   "cell_type": "code",
   "execution_count": 3,
   "id": "7e49ccc1",
   "metadata": {},
   "outputs": [
    {
     "data": {
      "text/plain": [
       "{'outwards': ExtensiblePort: {'opr_des': 50.0, 'bpr': 2.4391473431322437, 'opr': 74.01924500370174},\n",
       " 'fl_out': FluidPort: {'fluid': 'air', 'W': 30.901726075089, 'pt': 300000.0000000019, 'Tt': 453.27370628207075}}"
      ]
     },
     "execution_count": 3,
     "metadata": {},
     "output_type": "execute_result"
    }
   ],
   "source": [
    "tm = TurbomachineryAero('tm')\n",
    "solver = tm.add_driver(NonLinearSolver('solver'))\n",
    "tm.fl_in.W = 30.\n",
    "tm.fuel_in.W = .1\n",
    "tm.fl_out.pt = 3e5\n",
    "\n",
    "tm._locked=False\n",
    "tm.add_unknown('fl_in.W')\n",
    "tm.add_target('fl_out.pt')\n",
    "tm._locked=True\n",
    "\n",
    "tm.run_drivers()\n",
    "tm.outputs\n"
   ]
  },
  {
   "cell_type": "code",
   "execution_count": 4,
   "id": "71aaf88b",
   "metadata": {},
   "outputs": [
    {
     "name": "stdout",
     "output_type": "stream",
     "text": [
      "FluidPort: {'fluid': 'air', 'W': 28.60495336800265, 'pt': 300000.00000089285, 'Tt': 465.7023373266258}\n"
     ]
    }
   ],
   "source": [
    "solver.runner.design.extend(tm.design_methods['aero'])\n",
    "\n",
    "tm.run_drivers()\n",
    "print(tm.fl_out)"
   ]
  },
  {
   "cell_type": "code",
   "execution_count": 5,
   "id": "31d0179b",
   "metadata": {},
   "outputs": [
    {
     "name": "stdout",
     "output_type": "stream",
     "text": [
      "FluidPort: {'fluid': 'air', 'W': 28.979814267484798, 'pt': 300000.00000084436, 'Tt': 474.03544050627426}\n"
     ]
    }
   ],
   "source": [
    "from utils.canterafluid import CanteraFluid\n",
    "tm.turbineaero.gasproperty = CanteraFluid\n",
    "\n",
    "tm.run_drivers()\n",
    "print(tm.fl_out)"
   ]
  },
  {
   "cell_type": "code",
   "execution_count": null,
   "id": "72015fcd",
   "metadata": {},
   "outputs": [],
   "source": []
  }
 ],
 "metadata": {
  "kernelspec": {
   "display_name": "Python 3",
   "language": "python",
   "name": "python3"
  },
  "language_info": {
   "codemirror_mode": {
    "name": "ipython",
    "version": 3
   },
   "file_extension": ".py",
   "mimetype": "text/x-python",
   "name": "python",
   "nbconvert_exporter": "python",
   "pygments_lexer": "ipython3",
   "version": "3.9.5"
  }
 },
 "nbformat": 4,
 "nbformat_minor": 5
}
