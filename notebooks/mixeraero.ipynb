{
 "cells": [
  {
   "cell_type": "code",
   "execution_count": 1,
   "id": "b9cbc0bf",
   "metadata": {},
   "outputs": [],
   "source": [
    "import sys\n",
    "sys.path.insert(0, \"..\")"
   ]
  },
  {
   "cell_type": "markdown",
   "id": "5c5fd93d",
   "metadata": {},
   "source": [
    "# Simplified Compressor"
   ]
  },
  {
   "cell_type": "code",
   "execution_count": 2,
   "id": "5fceb4f4",
   "metadata": {},
   "outputs": [],
   "source": [
    "from systems.mixeraero import MixerAero\n",
    "from utils.canterafluid import CanteraFluid\n",
    "from cosapp.drivers import NonLinearSolver"
   ]
  },
  {
   "cell_type": "code",
   "execution_count": 3,
   "id": "c8fd9920",
   "metadata": {},
   "outputs": [
    {
     "name": "stdout",
     "output_type": "stream",
     "text": [
      "FluidPort: {'fluid': 'air', 'W': 1.0, 'pt': 101325.0, 'Tt': 288.15}\n"
     ]
    }
   ],
   "source": [
    "mx = MixerAero('mx')\n",
    "\n",
    "mx.run_drivers()\n",
    "\n",
    "print(mx.fl0_out)"
   ]
  },
  {
   "cell_type": "code",
   "execution_count": 7,
   "id": "b2ec4ac7",
   "metadata": {},
   "outputs": [
    {
     "name": "stdout",
     "output_type": "stream",
     "text": [
      "2.0\n",
      "{'outwards': ExtensiblePort: {'pt': 101325.0, 'Tt': 288.15, 'W': 2.0}, 'fl0_out': FluidPort: {'fluid': 'air', 'W': 2.0, 'pt': 101325.0, 'Tt': 288.15}}\n"
     ]
    }
   ],
   "source": [
    "mx = MixerAero('mx', n_in=2, n_out=1)\n",
    "mx.run_drivers()\n",
    "\n",
    "print(mx.W)\n",
    "print(mx.outputs)"
   ]
  },
  {
   "cell_type": "code",
   "execution_count": 9,
   "id": "15090eb5",
   "metadata": {},
   "outputs": [
    {
     "name": "stdout",
     "output_type": "stream",
     "text": [
      "1.0\n",
      "{'outwards': ExtensiblePort: {'pt': 101325.0, 'Tt': 288.15, 'W': 1.0}, 'fl0_out': FluidPort: {'fluid': 'air', 'W': 0.5, 'pt': 101325.0, 'Tt': 288.15}, 'fl1_out': FluidPort: {'fluid': 'air', 'W': 0.5, 'pt': 101325.0, 'Tt': 288.15}}\n"
     ]
    }
   ],
   "source": [
    "mx = MixerAero('mx', n_in=1, n_out=2)\n",
    "\n",
    "mx.run_drivers()\n",
    "\n",
    "print(mx.W)\n",
    "print(mx.outputs)"
   ]
  },
  {
   "cell_type": "code",
   "execution_count": null,
   "id": "72e558ef",
   "metadata": {},
   "outputs": [],
   "source": []
  }
 ],
 "metadata": {
  "kernelspec": {
   "display_name": "Python 3",
   "language": "python",
   "name": "python3"
  },
  "language_info": {
   "codemirror_mode": {
    "name": "ipython",
    "version": 3
   },
   "file_extension": ".py",
   "mimetype": "text/x-python",
   "name": "python",
   "nbconvert_exporter": "python",
   "pygments_lexer": "ipython3",
   "version": "3.9.5"
  }
 },
 "nbformat": 4,
 "nbformat_minor": 5
}
